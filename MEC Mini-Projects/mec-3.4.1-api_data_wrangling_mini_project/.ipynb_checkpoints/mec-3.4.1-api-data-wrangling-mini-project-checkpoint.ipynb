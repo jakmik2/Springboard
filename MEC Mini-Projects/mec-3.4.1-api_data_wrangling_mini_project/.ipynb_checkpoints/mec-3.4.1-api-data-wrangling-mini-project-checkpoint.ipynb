{
 "cells": [
  {
   "cell_type": "markdown",
   "metadata": {},
   "source": [
    "This exercise will require you to pull some data from the Qunadl API. Qaundl is currently the most widely used aggregator of financial market data."
   ]
  },
  {
   "cell_type": "markdown",
   "metadata": {},
   "source": [
    "As a first step, you will need to register a free account on the http://www.quandl.com website."
   ]
  },
  {
   "cell_type": "markdown",
   "metadata": {},
   "source": [
    "After you register, you will be provided with a unique API key, that you should store:"
   ]
  },
  {
   "cell_type": "code",
   "execution_count": 8,
   "metadata": {},
   "outputs": [],
   "source": [
    "# Store the API key as a string - according to PEP8, constants are always named in all upper case\n",
    "API_KEY = 'qJnksA4EVzybDNY28TVk'"
   ]
  },
  {
   "cell_type": "markdown",
   "metadata": {},
   "source": [
    "Qaundl has a large number of data sources, but, unfortunately, most of them require a Premium subscription. Still, there are also a good number of free datasets."
   ]
  },
  {
   "cell_type": "markdown",
   "metadata": {},
   "source": [
    "For this mini project, we will focus on equities data from the Frankfurt Stock Exhange (FSE), which is available for free. We'll try and analyze the stock prices of a company called Carl Zeiss Meditec, which manufactures tools for eye examinations, as well as medical lasers for laser eye surgery: https://www.zeiss.com/meditec/int/home.html. The company is listed under the stock ticker AFX_X."
   ]
  },
  {
   "cell_type": "markdown",
   "metadata": {},
   "source": [
    "You can find the detailed Quandl API instructions here: https://docs.quandl.com/docs/time-series"
   ]
  },
  {
   "cell_type": "markdown",
   "metadata": {},
   "source": [
    "While there is a dedicated Python package for connecting to the Quandl API, we would prefer that you use the *requests* package, which can be easily downloaded using *pip* or *conda*. You can find the documentation for the package here: http://docs.python-requests.org/en/master/ "
   ]
  },
  {
   "cell_type": "markdown",
   "metadata": {},
   "source": [
    "Finally, apart from the *requests* package, you are encouraged to not use any third party Python packages, such as *pandas*, and instead focus on what's available in the Python Standard Library (the *collections* module might come in handy: https://pymotw.com/3/collections/).\n",
    "Also, since you won't have access to DataFrames, you are encouraged to us Python's native data structures - preferably dictionaries, though some questions can also be answered using lists.\n",
    "You can read more on these data structures here: https://docs.python.org/3/tutorial/datastructures.html"
   ]
  },
  {
   "cell_type": "markdown",
   "metadata": {},
   "source": [
    "Keep in mind that the JSON responses you will be getting from the API map almost one-to-one to Python's dictionaries. Unfortunately, they can be very nested, so make sure you read up on indexing dictionaries in the documentation provided above."
   ]
  },
  {
   "cell_type": "code",
   "execution_count": 9,
   "metadata": {},
   "outputs": [],
   "source": [
    "# First, import the relevant modules\n",
    "import json\n",
    "import urllib.request"
   ]
  },
  {
   "cell_type": "code",
   "execution_count": 10,
   "metadata": {},
   "outputs": [],
   "source": [
    "# Now, call the Quandl API and pull out a small sample of the data (only one day) to get a glimpse\n",
    "# into the JSON structure that will be returned\n",
    "# NOTE: The specific company were instructed to analyze wasn't available so I picked another ticker in the FSE (AGB2)\n",
    "url = 'https://www.quandl.com/api/v3/datasets/XFRA/AGB2_UADJ.json?start_date=2014-01-01&end_date=2014-01-01&api_key=qJnksA4EVzybDNY28TVk'\n",
    "test = json.loads(urllib.request.urlopen(url).read().decode('utf8'))"
   ]
  },
  {
   "cell_type": "code",
   "execution_count": 11,
   "metadata": {},
   "outputs": [],
   "source": [
    "# Pull actual data for analysis\n",
    "url = 'https://www.quandl.com/api/v3/datasets/XFRA/AGB2_UADJ.json?api_key=qJnksA4EVzybDNY28TVk'\n",
    "data = json.loads(urllib.request.urlopen(url).read().decode('utf8'))"
   ]
  },
  {
   "cell_type": "code",
   "execution_count": 12,
   "metadata": {},
   "outputs": [
    {
     "data": {
      "text/plain": [
       "{'dataset': {'id': 46157305,\n",
       "  'dataset_code': 'AGB2_UADJ',\n",
       "  'database_code': 'XFRA',\n",
       "  'name': 'Agrana Beteiligungs AG (AGB2) Unadjusted Stock Prices',\n",
       "  'description': ' <b>Ticker</b>: AGB2 <br> <br> <b>Exchange</b>: XFRA <br> <br> Columns: <br> <br> Open,High,Low,Close,Volume are unadjusted and shown in EUR currency. <br> <br> Adjustment Factor shows the factor by which prices are adjusted on days which adjustments take place <br> <br> Adjustment Type is a number representing the type of adjustment. Refer to documentation for more information on these codes.',\n",
       "  'refreshed_at': '2021-02-16T03:44:37.689Z',\n",
       "  'newest_available_date': '2018-11-30',\n",
       "  'oldest_available_date': '2007-01-02',\n",
       "  'column_names': ['Date',\n",
       "   'Open',\n",
       "   'High',\n",
       "   'Low',\n",
       "   'Close',\n",
       "   'Volume',\n",
       "   'Adjustment Factor',\n",
       "   'Adjustment Type'],\n",
       "  'frequency': 'daily',\n",
       "  'type': 'Time Series',\n",
       "  'premium': True,\n",
       "  'limit': None,\n",
       "  'transform': None,\n",
       "  'column_index': None,\n",
       "  'start_date': '2014-01-01',\n",
       "  'end_date': '2014-01-01',\n",
       "  'data': [['2014-01-01', 85.58, 86.95, 85.58, 86.62, 0.0, None, None]],\n",
       "  'collapse': None,\n",
       "  'order': None,\n",
       "  'database_id': 15302}}"
      ]
     },
     "execution_count": 12,
     "metadata": {},
     "output_type": "execute_result"
    }
   ],
   "source": [
    "# Inspect the JSON structure of the object you created, and take note of how nested it is,\n",
    "# as well as the overall structure\n",
    "test"
   ]
  },
  {
   "cell_type": "markdown",
   "metadata": {},
   "source": [
    "These are your tasks for this mini project:\n",
    "\n",
    "1. Collect data from the Franfurt Stock Exchange, for the ticker AFX_X, for the whole year 2017 (keep in mind that the date format is YYYY-MM-DD).\n",
    "2. Convert the returned JSON object into a Python dictionary.\n",
    "3. Calculate what the highest and lowest opening prices were for the stock in this period.\n",
    "4. What was the largest change in any one day (based on High and Low price)?\n",
    "5. What was the largest change between any two days (based on Closing Price)?\n",
    "6. What was the average daily trading volume during this year?\n",
    "7. (Optional) What was the median trading volume during this year. (Note: you may need to implement your own function for calculating the median.)"
   ]
  },
  {
   "cell_type": "code",
   "execution_count": 14,
   "metadata": {},
   "outputs": [],
   "source": [
    "# Pull out 2017 Data\n",
    "colnames = data['dataset']['column_names']\n",
    "x = data['dataset']['data']\n",
    "x_2017 = []\n",
    "for i in range(0, len(x)):\n",
    "    if '2017' in x[i][0]:\n",
    "        x_2017.append(x[i])\n",
    "    elif '2016' in x[i][0]:\n",
    "        pass"
   ]
  },
  {
   "cell_type": "code",
   "execution_count": 15,
   "metadata": {},
   "outputs": [
    {
     "name": "stdout",
     "output_type": "stream",
     "text": [
      "Lowest Open:  91.0\n",
      "Highest Open:  126.0\n"
     ]
    }
   ],
   "source": [
    "# Highest opening price:\n",
    "# Open prices are the second item in the list\n",
    "# First, assemble a list of all Opening prices\n",
    "opens_2017 = []\n",
    "highs_2017 = []\n",
    "lows_2017 = []\n",
    "closes_2017 = []\n",
    "volume_2017 = []\n",
    "\n",
    "for i in range(0, len(x_2017)):\n",
    "    opens_2017.append(x_2017[i][1])\n",
    "    highs_2017.append(x_2017[i][2])\n",
    "    lows_2017.append(x_2017[i][3])\n",
    "    closes_2017.append(x_2017[i][4])\n",
    "    volume_2017.append(x_2017[i][5])\n",
    "\n",
    "# Find Lowest index\n",
    "min_value_index = 0\n",
    "\n",
    "for i in range(1, len(opens_2017)):\n",
    "    if opens_2017[min_value_index] > opens_2017[i]:\n",
    "        min_value_index = i\n",
    "\n",
    "max_value_index = 0\n",
    "\n",
    "for i in range(1, len(opens_2017)):\n",
    "    if opens_2017[max_value_index] < opens_2017[i]:\n",
    "        max_value_index = i\n",
    "        \n",
    "print(\"Lowest Open: \", opens_2017[min_value_index])\n",
    "print(\"Highest Open: \", opens_2017[max_value_index])\n"
   ]
  },
  {
   "cell_type": "code",
   "execution_count": 16,
   "metadata": {},
   "outputs": [
    {
     "name": "stdout",
     "output_type": "stream",
     "text": [
      "Greatest Daily Change 11.358000000000004\n"
     ]
    }
   ],
   "source": [
    "# Largest Change in one day:\n",
    "# Use formed arrays of highs - lows to evaluate daily change\n",
    "daily_change_2017 = []\n",
    "zip_object = zip(highs_2017, lows_2017) # Modified from https://www.kite.com/python/answers/how-to-subtract-two-lists-in-python\n",
    "for highs_2017_i, lows_2017_i in zip_object:\n",
    "    daily_change_2017.append(highs_2017_i - lows_2017_i)\n",
    "\n",
    "# Find largest value for largest daily change:\n",
    "max_value_index = 0\n",
    "\n",
    "for i in range(1, len(daily_change_2017)):\n",
    "    if daily_change_2017[max_value_index] < daily_change_2017[i]:\n",
    "        max_value_index = i\n",
    "\n",
    "print('Greatest Daily Change', daily_change_2017[max_value_index])"
   ]
  },
  {
   "cell_type": "code",
   "execution_count": 63,
   "metadata": {},
   "outputs": [
    {
     "name": "stdout",
     "output_type": "stream",
     "text": [
      "Greatest Daily Change 8.537999999999997\n"
     ]
    }
   ],
   "source": [
    "# Greatest change over a day comparing closes\n",
    "# Generate Array of difference between closes\n",
    "closes_dif_2017 = []\n",
    "for i in range(0, len(closes_2017) - 2):\n",
    "    temp = abs(closes_2017[i] - closes_2017[i + 1]) # abs value to ascertain magnitude of change, not direction\n",
    "    closes_dif_2017.append(temp)\n",
    "    \n",
    "# find largest\n",
    "max_value_index = 0\n",
    "\n",
    "for i in range(1, len(closes_dif_2017)):\n",
    "    if closes_dif_2017[max_value_index] < closes_dif_2017[i]:\n",
    "        max_value_index = i\n",
    "        \n",
    "print('Greatest Daily Change', closes_dif_2017[max_value_index])"
   ]
  },
  {
   "cell_type": "code",
   "execution_count": 65,
   "metadata": {},
   "outputs": [
    {
     "name": "stdout",
     "output_type": "stream",
     "text": [
      "Daily Volume Average:  131.86486486486487\n"
     ]
    }
   ],
   "source": [
    "# Average daily traded volume\n",
    "running_sum = 0\n",
    "for i in range(0, len(volume_2017)):\n",
    "    running_sum += volume_2017[i]\n",
    "average_daily_volume = running_sum / i\n",
    "print('Daily Volume Average: ', average_daily_volume)"
   ]
  },
  {
   "cell_type": "code",
   "execution_count": 70,
   "metadata": {},
   "outputs": [
    {
     "name": "stdout",
     "output_type": "stream",
     "text": [
      "Median Daily Trading Volume:  177.5\n"
     ]
    }
   ],
   "source": [
    "# Calculate Median\n",
    "# Not a robust solution, list is 260 long, median will be average of two values meeting in the center\n",
    "median_index = len(volume_2017) // 2\n",
    "median_volume = (volume_2017[median_index] + volume_2017[median_index + 1]) / 2\n",
    "print('Median Daily Trading Volume: ', median_volume)"
   ]
  },
  {
   "cell_type": "code",
   "execution_count": null,
   "metadata": {},
   "outputs": [],
   "source": []
  }
 ],
 "metadata": {
  "kernelspec": {
   "display_name": "Python 3",
   "language": "python",
   "name": "python3"
  },
  "language_info": {
   "codemirror_mode": {
    "name": "ipython",
    "version": 3
   },
   "file_extension": ".py",
   "mimetype": "text/x-python",
   "name": "python",
   "nbconvert_exporter": "python",
   "pygments_lexer": "ipython3",
   "version": "3.8.5"
  }
 },
 "nbformat": 4,
 "nbformat_minor": 2
}
