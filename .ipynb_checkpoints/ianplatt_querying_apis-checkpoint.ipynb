{
 "cells": [
  {
   "cell_type": "code",
   "execution_count": 1,
   "metadata": {},
   "outputs": [],
   "source": [
    "import json\n",
    "import urllib.request"
   ]
  },
  {
   "cell_type": "code",
   "execution_count": 8,
   "metadata": {},
   "outputs": [],
   "source": [
    "data = json.loads(urllib.request.urlopen('http://www.omdbapi.com/?t=national+treasure&apikey=8f40bc72').read().decode('utf8'))"
   ]
  },
  {
   "cell_type": "code",
   "execution_count": 9,
   "metadata": {},
   "outputs": [
    {
     "name": "stdout",
     "output_type": "stream",
     "text": [
      "<class 'dict'>\n"
     ]
    }
   ],
   "source": [
    "print(type(data))"
   ]
  },
  {
   "cell_type": "code",
   "execution_count": 10,
   "metadata": {},
   "outputs": [
    {
     "data": {
      "text/plain": [
       "dict_keys(['Title', 'Year', 'Rated', 'Released', 'Runtime', 'Genre', 'Director', 'Writer', 'Actors', 'Plot', 'Language', 'Country', 'Awards', 'Poster', 'Ratings', 'Metascore', 'imdbRating', 'imdbVotes', 'imdbID', 'Type', 'DVD', 'BoxOffice', 'Production', 'Website', 'Response'])"
      ]
     },
     "execution_count": 10,
     "metadata": {},
     "output_type": "execute_result"
    }
   ],
   "source": [
    "data.keys()"
   ]
  },
  {
   "cell_type": "code",
   "execution_count": 11,
   "metadata": {},
   "outputs": [
    {
     "data": {
      "text/plain": [
       "{'Title': 'National Treasure',\n",
       " 'Year': '2004',\n",
       " 'Rated': 'PG',\n",
       " 'Released': '19 Nov 2004',\n",
       " 'Runtime': '131 min',\n",
       " 'Genre': 'Action, Adventure, Mystery, Thriller',\n",
       " 'Director': 'Jon Turteltaub',\n",
       " 'Writer': 'Jim Kouf (screenplay), Cormac Wibberley (screenplay), Marianne Wibberley (screenplay), Jim Kouf (story), Oren Aviv (story), Charles Segars (story)',\n",
       " 'Actors': 'Nicolas Cage, Diane Kruger, Justin Bartha, Sean Bean',\n",
       " 'Plot': 'A historian races to find the legendary Templar Treasure before a team of mercenaries.',\n",
       " 'Language': 'English, Spanish',\n",
       " 'Country': 'USA',\n",
       " 'Awards': '1 win & 9 nominations.',\n",
       " 'Poster': 'https://m.media-amazon.com/images/M/MV5BMTY3NTc4OTYxMF5BMl5BanBnXkFtZTcwMjk5NzUyMw@@._V1_SX300.jpg',\n",
       " 'Ratings': [{'Source': 'Internet Movie Database', 'Value': '6.9/10'},\n",
       "  {'Source': 'Rotten Tomatoes', 'Value': '46%'},\n",
       "  {'Source': 'Metacritic', 'Value': '39/100'}],\n",
       " 'Metascore': '39',\n",
       " 'imdbRating': '6.9',\n",
       " 'imdbVotes': '304,198',\n",
       " 'imdbID': 'tt0368891',\n",
       " 'Type': 'movie',\n",
       " 'DVD': 'N/A',\n",
       " 'BoxOffice': '$173,008,894',\n",
       " 'Production': 'Declaration Productions Inc., Touchstone Pictures, Jerry Bruckheimer Films, Junction',\n",
       " 'Website': 'N/A',\n",
       " 'Response': 'True'}"
      ]
     },
     "execution_count": 11,
     "metadata": {},
     "output_type": "execute_result"
    }
   ],
   "source": [
    "data"
   ]
  },
  {
   "cell_type": "code",
   "execution_count": null,
   "metadata": {},
   "outputs": [],
   "source": []
  }
 ],
 "metadata": {
  "kernelspec": {
   "display_name": "Python 3",
   "language": "python",
   "name": "python3"
  },
  "language_info": {
   "codemirror_mode": {
    "name": "ipython",
    "version": 3
   },
   "file_extension": ".py",
   "mimetype": "text/x-python",
   "name": "python",
   "nbconvert_exporter": "python",
   "pygments_lexer": "ipython3",
   "version": "3.8.5"
  }
 },
 "nbformat": 4,
 "nbformat_minor": 4
}
