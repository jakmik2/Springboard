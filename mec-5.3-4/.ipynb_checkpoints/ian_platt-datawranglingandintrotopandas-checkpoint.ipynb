{
 "cells": [
  {
   "cell_type": "code",
   "execution_count": 2,
   "metadata": {},
   "outputs": [],
   "source": [
    "import pandas as pd\n",
    "import numpy as np\n",
    "\n",
    "%matplotlib inline"
   ]
  },
  {
   "cell_type": "code",
   "execution_count": 4,
   "metadata": {},
   "outputs": [
    {
     "data": {
      "text/html": [
       "<div>\n",
       "<style scoped>\n",
       "    .dataframe tbody tr th:only-of-type {\n",
       "        vertical-align: middle;\n",
       "    }\n",
       "\n",
       "    .dataframe tbody tr th {\n",
       "        vertical-align: top;\n",
       "    }\n",
       "\n",
       "    .dataframe thead th {\n",
       "        text-align: right;\n",
       "    }\n",
       "</style>\n",
       "<table border=\"1\" class=\"dataframe\">\n",
       "  <thead>\n",
       "    <tr style=\"text-align: right;\">\n",
       "      <th></th>\n",
       "      <th>Open</th>\n",
       "      <th>High</th>\n",
       "      <th>Low</th>\n",
       "      <th>Close</th>\n",
       "      <th>Volume</th>\n",
       "    </tr>\n",
       "    <tr>\n",
       "      <th>Date</th>\n",
       "      <th></th>\n",
       "      <th></th>\n",
       "      <th></th>\n",
       "      <th></th>\n",
       "      <th></th>\n",
       "    </tr>\n",
       "  </thead>\n",
       "  <tbody>\n",
       "    <tr>\n",
       "      <th>2010-01-04</th>\n",
       "      <td>313.16</td>\n",
       "      <td>314.44</td>\n",
       "      <td>311.81</td>\n",
       "      <td>313.06</td>\n",
       "      <td>NaN</td>\n",
       "    </tr>\n",
       "    <tr>\n",
       "      <th>2010-01-05</th>\n",
       "      <td>313.28</td>\n",
       "      <td>313.61</td>\n",
       "      <td>310.46</td>\n",
       "      <td>311.68</td>\n",
       "      <td>NaN</td>\n",
       "    </tr>\n",
       "    <tr>\n",
       "      <th>2010-01-06</th>\n",
       "      <td>312.62</td>\n",
       "      <td>312.62</td>\n",
       "      <td>302.88</td>\n",
       "      <td>303.83</td>\n",
       "      <td>NaN</td>\n",
       "    </tr>\n",
       "    <tr>\n",
       "      <th>2010-01-07</th>\n",
       "      <td>304.40</td>\n",
       "      <td>304.70</td>\n",
       "      <td>296.03</td>\n",
       "      <td>296.75</td>\n",
       "      <td>NaN</td>\n",
       "    </tr>\n",
       "    <tr>\n",
       "      <th>2010-01-08</th>\n",
       "      <td>295.70</td>\n",
       "      <td>301.32</td>\n",
       "      <td>294.26</td>\n",
       "      <td>300.71</td>\n",
       "      <td>NaN</td>\n",
       "    </tr>\n",
       "    <tr>\n",
       "      <th>...</th>\n",
       "      <td>...</td>\n",
       "      <td>...</td>\n",
       "      <td>...</td>\n",
       "      <td>...</td>\n",
       "      <td>...</td>\n",
       "    </tr>\n",
       "    <tr>\n",
       "      <th>2014-12-24</th>\n",
       "      <td>530.51</td>\n",
       "      <td>531.76</td>\n",
       "      <td>527.02</td>\n",
       "      <td>528.77</td>\n",
       "      <td>704035.0</td>\n",
       "    </tr>\n",
       "    <tr>\n",
       "      <th>2014-12-26</th>\n",
       "      <td>528.77</td>\n",
       "      <td>534.25</td>\n",
       "      <td>527.31</td>\n",
       "      <td>534.03</td>\n",
       "      <td>1037727.0</td>\n",
       "    </tr>\n",
       "    <tr>\n",
       "      <th>2014-12-29</th>\n",
       "      <td>532.19</td>\n",
       "      <td>535.48</td>\n",
       "      <td>530.01</td>\n",
       "      <td>530.33</td>\n",
       "      <td>2276104.0</td>\n",
       "    </tr>\n",
       "    <tr>\n",
       "      <th>2014-12-30</th>\n",
       "      <td>528.09</td>\n",
       "      <td>531.15</td>\n",
       "      <td>527.13</td>\n",
       "      <td>530.42</td>\n",
       "      <td>873923.0</td>\n",
       "    </tr>\n",
       "    <tr>\n",
       "      <th>2014-12-31</th>\n",
       "      <td>531.25</td>\n",
       "      <td>532.60</td>\n",
       "      <td>525.80</td>\n",
       "      <td>526.40</td>\n",
       "      <td>1371819.0</td>\n",
       "    </tr>\n",
       "  </tbody>\n",
       "</table>\n",
       "<p>1257 rows × 5 columns</p>\n",
       "</div>"
      ],
      "text/plain": [
       "              Open    High     Low   Close     Volume\n",
       "Date                                                 \n",
       "2010-01-04  313.16  314.44  311.81  313.06        NaN\n",
       "2010-01-05  313.28  313.61  310.46  311.68        NaN\n",
       "2010-01-06  312.62  312.62  302.88  303.83        NaN\n",
       "2010-01-07  304.40  304.70  296.03  296.75        NaN\n",
       "2010-01-08  295.70  301.32  294.26  300.71        NaN\n",
       "...            ...     ...     ...     ...        ...\n",
       "2014-12-24  530.51  531.76  527.02  528.77   704035.0\n",
       "2014-12-26  528.77  534.25  527.31  534.03  1037727.0\n",
       "2014-12-29  532.19  535.48  530.01  530.33  2276104.0\n",
       "2014-12-30  528.09  531.15  527.13  530.42   873923.0\n",
       "2014-12-31  531.25  532.60  525.80  526.40  1371819.0\n",
       "\n",
       "[1257 rows x 5 columns]"
      ]
     },
     "execution_count": 4,
     "metadata": {},
     "output_type": "execute_result"
    }
   ],
   "source": [
    "google = pd.read_csv('strata_data-master/data/goog.csv', index_col = 'Date', parse_dates=True)\n",
    "google"
   ]
  },
  {
   "cell_type": "code",
   "execution_count": 5,
   "metadata": {},
   "outputs": [
    {
     "data": {
      "text/plain": [
       "pandas.core.frame.DataFrame"
      ]
     },
     "execution_count": 5,
     "metadata": {},
     "output_type": "execute_result"
    }
   ],
   "source": [
    "type(google)"
   ]
  },
  {
   "cell_type": "code",
   "execution_count": 6,
   "metadata": {},
   "outputs": [
    {
     "data": {
      "text/html": [
       "<div>\n",
       "<style scoped>\n",
       "    .dataframe tbody tr th:only-of-type {\n",
       "        vertical-align: middle;\n",
       "    }\n",
       "\n",
       "    .dataframe tbody tr th {\n",
       "        vertical-align: top;\n",
       "    }\n",
       "\n",
       "    .dataframe thead th {\n",
       "        text-align: right;\n",
       "    }\n",
       "</style>\n",
       "<table border=\"1\" class=\"dataframe\">\n",
       "  <thead>\n",
       "    <tr style=\"text-align: right;\">\n",
       "      <th></th>\n",
       "      <th>Open</th>\n",
       "      <th>High</th>\n",
       "      <th>Low</th>\n",
       "      <th>Close</th>\n",
       "      <th>Volume</th>\n",
       "    </tr>\n",
       "    <tr>\n",
       "      <th>Date</th>\n",
       "      <th></th>\n",
       "      <th></th>\n",
       "      <th></th>\n",
       "      <th></th>\n",
       "      <th></th>\n",
       "    </tr>\n",
       "  </thead>\n",
       "  <tbody>\n",
       "    <tr>\n",
       "      <th>2010-01-04</th>\n",
       "      <td>313.16</td>\n",
       "      <td>314.44</td>\n",
       "      <td>311.81</td>\n",
       "      <td>313.06</td>\n",
       "      <td>NaN</td>\n",
       "    </tr>\n",
       "    <tr>\n",
       "      <th>2010-01-05</th>\n",
       "      <td>313.28</td>\n",
       "      <td>313.61</td>\n",
       "      <td>310.46</td>\n",
       "      <td>311.68</td>\n",
       "      <td>NaN</td>\n",
       "    </tr>\n",
       "    <tr>\n",
       "      <th>2010-01-06</th>\n",
       "      <td>312.62</td>\n",
       "      <td>312.62</td>\n",
       "      <td>302.88</td>\n",
       "      <td>303.83</td>\n",
       "      <td>NaN</td>\n",
       "    </tr>\n",
       "    <tr>\n",
       "      <th>2010-01-07</th>\n",
       "      <td>304.40</td>\n",
       "      <td>304.70</td>\n",
       "      <td>296.03</td>\n",
       "      <td>296.75</td>\n",
       "      <td>NaN</td>\n",
       "    </tr>\n",
       "    <tr>\n",
       "      <th>2010-01-08</th>\n",
       "      <td>295.70</td>\n",
       "      <td>301.32</td>\n",
       "      <td>294.26</td>\n",
       "      <td>300.71</td>\n",
       "      <td>NaN</td>\n",
       "    </tr>\n",
       "  </tbody>\n",
       "</table>\n",
       "</div>"
      ],
      "text/plain": [
       "              Open    High     Low   Close  Volume\n",
       "Date                                              \n",
       "2010-01-04  313.16  314.44  311.81  313.06     NaN\n",
       "2010-01-05  313.28  313.61  310.46  311.68     NaN\n",
       "2010-01-06  312.62  312.62  302.88  303.83     NaN\n",
       "2010-01-07  304.40  304.70  296.03  296.75     NaN\n",
       "2010-01-08  295.70  301.32  294.26  300.71     NaN"
      ]
     },
     "execution_count": 6,
     "metadata": {},
     "output_type": "execute_result"
    }
   ],
   "source": [
    "google.head()"
   ]
  },
  {
   "cell_type": "code",
   "execution_count": 8,
   "metadata": {},
   "outputs": [
    {
     "name": "stdout",
     "output_type": "stream",
     "text": [
      "<class 'pandas.core.frame.DataFrame'>\n",
      "DatetimeIndex: 1257 entries, 2010-01-04 to 2014-12-31\n",
      "Data columns (total 5 columns):\n",
      " #   Column  Non-Null Count  Dtype  \n",
      "---  ------  --------------  -----  \n",
      " 0   Open    1257 non-null   float64\n",
      " 1   High    1257 non-null   float64\n",
      " 2   Low     1257 non-null   float64\n",
      " 3   Close   1257 non-null   float64\n",
      " 4   Volume  194 non-null    float64\n",
      "dtypes: float64(5)\n",
      "memory usage: 58.9 KB\n"
     ]
    }
   ],
   "source": [
    "google.info()"
   ]
  },
  {
   "cell_type": "code",
   "execution_count": 9,
   "metadata": {},
   "outputs": [
    {
     "data": {
      "text/plain": [
       "Date\n",
       "2010-01-04    313.16\n",
       "2010-01-05    313.28\n",
       "2010-01-06    312.62\n",
       "2010-01-07    304.40\n",
       "2010-01-08    295.70\n",
       "               ...  \n",
       "2014-12-24    530.51\n",
       "2014-12-26    528.77\n",
       "2014-12-29    532.19\n",
       "2014-12-30    528.09\n",
       "2014-12-31    531.25\n",
       "Name: Open, Length: 1257, dtype: float64"
      ]
     },
     "execution_count": 9,
     "metadata": {},
     "output_type": "execute_result"
    }
   ],
   "source": [
    "google['Open']"
   ]
  },
  {
   "cell_type": "code",
   "execution_count": 10,
   "metadata": {},
   "outputs": [
    {
     "data": {
      "text/plain": [
       "Date\n",
       "2010-01-04    313.16\n",
       "2010-01-05    313.28\n",
       "2010-01-06    312.62\n",
       "2010-01-07    304.40\n",
       "2010-01-08    295.70\n",
       "Name: Open, dtype: float64"
      ]
     },
     "execution_count": 10,
     "metadata": {},
     "output_type": "execute_result"
    }
   ],
   "source": [
    "google['Open'].iloc[0:5]"
   ]
  },
  {
   "cell_type": "code",
   "execution_count": 13,
   "metadata": {},
   "outputs": [
    {
     "data": {
      "text/plain": [
       "Date\n",
       "2010-01-04    313.16\n",
       "2010-01-05    313.28\n",
       "2010-01-06    312.62\n",
       "2010-01-07    304.40\n",
       "2010-01-08    295.70\n",
       "Name: Open, dtype: float64"
      ]
     },
     "execution_count": 13,
     "metadata": {},
     "output_type": "execute_result"
    }
   ],
   "source": [
    "google.loc['2010-01-04': '2010-01-08', 'Open']"
   ]
  },
  {
   "cell_type": "code",
   "execution_count": 18,
   "metadata": {},
   "outputs": [
    {
     "data": {
      "text/html": [
       "<div>\n",
       "<style scoped>\n",
       "    .dataframe tbody tr th:only-of-type {\n",
       "        vertical-align: middle;\n",
       "    }\n",
       "\n",
       "    .dataframe tbody tr th {\n",
       "        vertical-align: top;\n",
       "    }\n",
       "\n",
       "    .dataframe thead th {\n",
       "        text-align: right;\n",
       "    }\n",
       "</style>\n",
       "<table border=\"1\" class=\"dataframe\">\n",
       "  <thead>\n",
       "    <tr style=\"text-align: right;\">\n",
       "      <th></th>\n",
       "      <th>Open</th>\n",
       "      <th>High</th>\n",
       "      <th>Low</th>\n",
       "      <th>Close</th>\n",
       "      <th>Volume</th>\n",
       "    </tr>\n",
       "    <tr>\n",
       "      <th>Date</th>\n",
       "      <th></th>\n",
       "      <th></th>\n",
       "      <th></th>\n",
       "      <th></th>\n",
       "      <th></th>\n",
       "    </tr>\n",
       "  </thead>\n",
       "  <tbody>\n",
       "    <tr>\n",
       "      <th>2010-01-08</th>\n",
       "      <td>295.70</td>\n",
       "      <td>301.32</td>\n",
       "      <td>294.26</td>\n",
       "      <td>300.71</td>\n",
       "      <td>NaN</td>\n",
       "    </tr>\n",
       "    <tr>\n",
       "      <th>2010-01-13</th>\n",
       "      <td>287.96</td>\n",
       "      <td>293.90</td>\n",
       "      <td>286.66</td>\n",
       "      <td>293.25</td>\n",
       "      <td>NaN</td>\n",
       "    </tr>\n",
       "    <tr>\n",
       "      <th>2010-01-14</th>\n",
       "      <td>291.66</td>\n",
       "      <td>296.80</td>\n",
       "      <td>291.11</td>\n",
       "      <td>294.63</td>\n",
       "      <td>NaN</td>\n",
       "    </tr>\n",
       "    <tr>\n",
       "      <th>2010-01-19</th>\n",
       "      <td>290.45</td>\n",
       "      <td>294.91</td>\n",
       "      <td>287.86</td>\n",
       "      <td>293.52</td>\n",
       "      <td>NaN</td>\n",
       "    </tr>\n",
       "    <tr>\n",
       "      <th>2010-01-26</th>\n",
       "      <td>268.72</td>\n",
       "      <td>274.53</td>\n",
       "      <td>267.88</td>\n",
       "      <td>270.94</td>\n",
       "      <td>NaN</td>\n",
       "    </tr>\n",
       "  </tbody>\n",
       "</table>\n",
       "</div>"
      ],
      "text/plain": [
       "              Open    High     Low   Close  Volume\n",
       "Date                                              \n",
       "2010-01-08  295.70  301.32  294.26  300.71     NaN\n",
       "2010-01-13  287.96  293.90  286.66  293.25     NaN\n",
       "2010-01-14  291.66  296.80  291.11  294.63     NaN\n",
       "2010-01-19  290.45  294.91  287.86  293.52     NaN\n",
       "2010-01-26  268.72  274.53  267.88  270.94     NaN"
      ]
     },
     "execution_count": 18,
     "metadata": {},
     "output_type": "execute_result"
    }
   ],
   "source": [
    "google_up = google[google['Close'] > google['Open']]\n",
    "google_up.head()"
   ]
  },
  {
   "cell_type": "code",
   "execution_count": 20,
   "metadata": {},
   "outputs": [
    {
     "data": {
      "text/html": [
       "<div>\n",
       "<style scoped>\n",
       "    .dataframe tbody tr th:only-of-type {\n",
       "        vertical-align: middle;\n",
       "    }\n",
       "\n",
       "    .dataframe tbody tr th {\n",
       "        vertical-align: top;\n",
       "    }\n",
       "\n",
       "    .dataframe thead th {\n",
       "        text-align: right;\n",
       "    }\n",
       "</style>\n",
       "<table border=\"1\" class=\"dataframe\">\n",
       "  <thead>\n",
       "    <tr style=\"text-align: right;\">\n",
       "      <th></th>\n",
       "      <th>Open</th>\n",
       "      <th>High</th>\n",
       "      <th>Low</th>\n",
       "      <th>Close</th>\n",
       "      <th>Volume</th>\n",
       "    </tr>\n",
       "    <tr>\n",
       "      <th>Date</th>\n",
       "      <th></th>\n",
       "      <th></th>\n",
       "      <th></th>\n",
       "      <th></th>\n",
       "      <th></th>\n",
       "    </tr>\n",
       "  </thead>\n",
       "  <tbody>\n",
       "    <tr>\n",
       "      <th>2014-03-27</th>\n",
       "      <td>564.86</td>\n",
       "      <td>565.40</td>\n",
       "      <td>550.50</td>\n",
       "      <td>556.58</td>\n",
       "      <td>3826676.0</td>\n",
       "    </tr>\n",
       "    <tr>\n",
       "      <th>2014-03-28</th>\n",
       "      <td>558.94</td>\n",
       "      <td>566.03</td>\n",
       "      <td>558.33</td>\n",
       "      <td>559.51</td>\n",
       "      <td>2258918.0</td>\n",
       "    </tr>\n",
       "    <tr>\n",
       "      <th>2014-03-31</th>\n",
       "      <td>564.63</td>\n",
       "      <td>566.93</td>\n",
       "      <td>555.87</td>\n",
       "      <td>556.70</td>\n",
       "      <td>1942277.0</td>\n",
       "    </tr>\n",
       "    <tr>\n",
       "      <th>2014-04-01</th>\n",
       "      <td>559.57</td>\n",
       "      <td>568.18</td>\n",
       "      <td>558.44</td>\n",
       "      <td>566.88</td>\n",
       "      <td>2182626.0</td>\n",
       "    </tr>\n",
       "    <tr>\n",
       "      <th>2014-04-02</th>\n",
       "      <td>282.43</td>\n",
       "      <td>571.83</td>\n",
       "      <td>561.44</td>\n",
       "      <td>566.98</td>\n",
       "      <td>2088804.0</td>\n",
       "    </tr>\n",
       "  </tbody>\n",
       "</table>\n",
       "</div>"
      ],
      "text/plain": [
       "              Open    High     Low   Close     Volume\n",
       "Date                                                 \n",
       "2014-03-27  564.86  565.40  550.50  556.58  3826676.0\n",
       "2014-03-28  558.94  566.03  558.33  559.51  2258918.0\n",
       "2014-03-31  564.63  566.93  555.87  556.70  1942277.0\n",
       "2014-04-01  559.57  568.18  558.44  566.88  2182626.0\n",
       "2014-04-02  282.43  571.83  561.44  566.98  2088804.0"
      ]
     },
     "execution_count": 20,
     "metadata": {},
     "output_type": "execute_result"
    }
   ],
   "source": [
    "# Filtering out missing data \n",
    "google_filtered = google[pd.isnull(google['Volume']) == False]\n",
    "google_filtered.head()"
   ]
  },
  {
   "cell_type": "code",
   "execution_count": 21,
   "metadata": {},
   "outputs": [
    {
     "data": {
      "text/html": [
       "<div>\n",
       "<style scoped>\n",
       "    .dataframe tbody tr th:only-of-type {\n",
       "        vertical-align: middle;\n",
       "    }\n",
       "\n",
       "    .dataframe tbody tr th {\n",
       "        vertical-align: top;\n",
       "    }\n",
       "\n",
       "    .dataframe thead th {\n",
       "        text-align: right;\n",
       "    }\n",
       "</style>\n",
       "<table border=\"1\" class=\"dataframe\">\n",
       "  <thead>\n",
       "    <tr style=\"text-align: right;\">\n",
       "      <th></th>\n",
       "      <th>Open</th>\n",
       "      <th>High</th>\n",
       "      <th>Low</th>\n",
       "      <th>Close</th>\n",
       "      <th>Volume</th>\n",
       "    </tr>\n",
       "  </thead>\n",
       "  <tbody>\n",
       "    <tr>\n",
       "      <th>count</th>\n",
       "      <td>1257.000000</td>\n",
       "      <td>1257.000000</td>\n",
       "      <td>1257.000000</td>\n",
       "      <td>1257.000000</td>\n",
       "      <td>1.940000e+02</td>\n",
       "    </tr>\n",
       "    <tr>\n",
       "      <th>mean</th>\n",
       "      <td>375.275593</td>\n",
       "      <td>378.450247</td>\n",
       "      <td>372.132474</td>\n",
       "      <td>375.327064</td>\n",
       "      <td>1.937264e+06</td>\n",
       "    </tr>\n",
       "    <tr>\n",
       "      <th>std</th>\n",
       "      <td>115.684354</td>\n",
       "      <td>116.288827</td>\n",
       "      <td>114.935742</td>\n",
       "      <td>115.664301</td>\n",
       "      <td>9.842775e+05</td>\n",
       "    </tr>\n",
       "    <tr>\n",
       "      <th>min</th>\n",
       "      <td>218.940000</td>\n",
       "      <td>220.920000</td>\n",
       "      <td>216.600000</td>\n",
       "      <td>217.820000</td>\n",
       "      <td>7.040350e+05</td>\n",
       "    </tr>\n",
       "    <tr>\n",
       "      <th>25%</th>\n",
       "      <td>285.790000</td>\n",
       "      <td>288.760000</td>\n",
       "      <td>283.060000</td>\n",
       "      <td>285.450000</td>\n",
       "      <td>1.338451e+06</td>\n",
       "    </tr>\n",
       "    <tr>\n",
       "      <th>50%</th>\n",
       "      <td>318.330000</td>\n",
       "      <td>320.800000</td>\n",
       "      <td>315.180000</td>\n",
       "      <td>317.260000</td>\n",
       "      <td>1.684634e+06</td>\n",
       "    </tr>\n",
       "    <tr>\n",
       "      <th>75%</th>\n",
       "      <td>452.540000</td>\n",
       "      <td>456.020000</td>\n",
       "      <td>449.740000</td>\n",
       "      <td>452.830000</td>\n",
       "      <td>2.164369e+06</td>\n",
       "    </tr>\n",
       "    <tr>\n",
       "      <th>max</th>\n",
       "      <td>612.790000</td>\n",
       "      <td>613.830000</td>\n",
       "      <td>608.690000</td>\n",
       "      <td>609.470000</td>\n",
       "      <td>6.795393e+06</td>\n",
       "    </tr>\n",
       "  </tbody>\n",
       "</table>\n",
       "</div>"
      ],
      "text/plain": [
       "              Open         High          Low        Close        Volume\n",
       "count  1257.000000  1257.000000  1257.000000  1257.000000  1.940000e+02\n",
       "mean    375.275593   378.450247   372.132474   375.327064  1.937264e+06\n",
       "std     115.684354   116.288827   114.935742   115.664301  9.842775e+05\n",
       "min     218.940000   220.920000   216.600000   217.820000  7.040350e+05\n",
       "25%     285.790000   288.760000   283.060000   285.450000  1.338451e+06\n",
       "50%     318.330000   320.800000   315.180000   317.260000  1.684634e+06\n",
       "75%     452.540000   456.020000   449.740000   452.830000  2.164369e+06\n",
       "max     612.790000   613.830000   608.690000   609.470000  6.795393e+06"
      ]
     },
     "execution_count": 21,
     "metadata": {},
     "output_type": "execute_result"
    }
   ],
   "source": [
    "google.describe()"
   ]
  },
  {
   "cell_type": "code",
   "execution_count": 22,
   "metadata": {},
   "outputs": [
    {
     "data": {
      "text/plain": [
       "Date\n",
       "2010-01-04         NaN\n",
       "2010-01-05   -0.004408\n",
       "2010-01-06   -0.025186\n",
       "2010-01-07   -0.023303\n",
       "2010-01-08    0.013345\n",
       "Name: Return, dtype: float64"
      ]
     },
     "execution_count": 22,
     "metadata": {},
     "output_type": "execute_result"
    }
   ],
   "source": [
    "# Compute the returns from daily percent change\n",
    "google['Return'] = google['Close'].pct_change()\n",
    "google['Return'].iloc[0:5]"
   ]
  },
  {
   "cell_type": "code",
   "execution_count": 24,
   "metadata": {},
   "outputs": [
    {
     "data": {
      "text/plain": [
       "Date\n",
       "2010-01-04         NaN\n",
       "2010-01-05   -0.004418\n",
       "2010-01-06   -0.025509\n",
       "2010-01-07   -0.023578\n",
       "2010-01-08    0.013256\n",
       "Name: LogReturn, dtype: float64"
      ]
     },
     "execution_count": 24,
     "metadata": {},
     "output_type": "execute_result"
    }
   ],
   "source": [
    "# Compute the log of the return using numpy\n",
    "google['LogReturn'] = np.log(1+google['Return'])\n",
    "google['LogReturn'].iloc[0:5]"
   ]
  },
  {
   "cell_type": "code",
   "execution_count": 28,
   "metadata": {},
   "outputs": [
    {
     "ename": "AttributeError",
     "evalue": "module 'pandas' has no attribute 'rolling'",
     "output_type": "error",
     "traceback": [
      "\u001b[1;31m---------------------------------------------------------------------------\u001b[0m",
      "\u001b[1;31mAttributeError\u001b[0m                            Traceback (most recent call last)",
      "\u001b[1;32m<ipython-input-28-bb316664bb3f>\u001b[0m in \u001b[0;36m<module>\u001b[1;34m\u001b[0m\n\u001b[0;32m      1\u001b[0m \u001b[0mwindow_size\u001b[0m \u001b[1;33m=\u001b[0m \u001b[1;36m252\u001b[0m\u001b[1;33m\u001b[0m\u001b[1;33m\u001b[0m\u001b[0m\n\u001b[1;32m----> 2\u001b[1;33m \u001b[0mgoogle\u001b[0m\u001b[1;33m[\u001b[0m\u001b[1;34m'Volatility'\u001b[0m\u001b[1;33m]\u001b[0m \u001b[1;33m=\u001b[0m \u001b[0mpd\u001b[0m\u001b[1;33m.\u001b[0m\u001b[0mrolling\u001b[0m\u001b[1;33m(\u001b[0m\u001b[0mgoogle\u001b[0m\u001b[1;33m[\u001b[0m\u001b[1;34m'LogReturn'\u001b[0m\u001b[1;33m]\u001b[0m\u001b[1;33m,\u001b[0m \u001b[0mwindow\u001b[0m \u001b[1;33m=\u001b[0m \u001b[0mwindow_size\u001b[0m\u001b[1;33m)\u001b[0m \u001b[1;33m*\u001b[0m \u001b[0mnp\u001b[0m\u001b[1;33m.\u001b[0m\u001b[0msqrt\u001b[0m\u001b[1;33m(\u001b[0m\u001b[0mwindow_size\u001b[0m\u001b[1;33m)\u001b[0m\u001b[1;33m\u001b[0m\u001b[1;33m\u001b[0m\u001b[0m\n\u001b[0m\u001b[0;32m      3\u001b[0m \u001b[0mgoogle\u001b[0m\u001b[1;33m[\u001b[0m\u001b[1;34m'Volatility'\u001b[0m\u001b[1;33m]\u001b[0m\u001b[1;33m.\u001b[0m\u001b[0miloc\u001b[0m\u001b[1;33m[\u001b[0m\u001b[0mwindow_size\u001b[0m\u001b[1;33m-\u001b[0m\u001b[1;36m5\u001b[0m\u001b[1;33m:\u001b[0m\u001b[0mwindow_size\u001b[0m\u001b[1;33m+\u001b[0m\u001b[1;36m5\u001b[0m\u001b[1;33m]\u001b[0m\u001b[1;33m\u001b[0m\u001b[1;33m\u001b[0m\u001b[0m\n",
      "\u001b[1;32m~\\miniconda3\\lib\\site-packages\\pandas\\__init__.py\u001b[0m in \u001b[0;36m__getattr__\u001b[1;34m(name)\u001b[0m\n\u001b[0;32m    242\u001b[0m         \u001b[1;32mreturn\u001b[0m \u001b[0m_SparseArray\u001b[0m\u001b[1;33m\u001b[0m\u001b[1;33m\u001b[0m\u001b[0m\n\u001b[0;32m    243\u001b[0m \u001b[1;33m\u001b[0m\u001b[0m\n\u001b[1;32m--> 244\u001b[1;33m     \u001b[1;32mraise\u001b[0m \u001b[0mAttributeError\u001b[0m\u001b[1;33m(\u001b[0m\u001b[1;34mf\"module 'pandas' has no attribute '{name}'\"\u001b[0m\u001b[1;33m)\u001b[0m\u001b[1;33m\u001b[0m\u001b[1;33m\u001b[0m\u001b[0m\n\u001b[0m\u001b[0;32m    245\u001b[0m \u001b[1;33m\u001b[0m\u001b[0m\n\u001b[0;32m    246\u001b[0m \u001b[1;33m\u001b[0m\u001b[0m\n",
      "\u001b[1;31mAttributeError\u001b[0m: module 'pandas' has no attribute 'rolling'"
     ]
    }
   ],
   "source": [
    "# Rolling_std has been depreciated with no suitable replacement able to be found\n",
    "\n",
    "window_size = 252\n",
    "google['Volatility'] = pd.rolling(google['LogReturn'], window = window_size) * np.sqrt(window_size)\n",
    "google['Volatility'].iloc[window_size-5:window_size+5]\n",
    "google[['Close', 'Volatility']].plot(subplots=True, figsize=(15,6))"
   ]
  },
  {
   "cell_type": "code",
   "execution_count": 29,
   "metadata": {},
   "outputs": [
    {
     "name": "stdout",
     "output_type": "stream",
     "text": [
      "\n",
      "\n",
      "0          gamma Cep b\n",
      "1          HD 114762 b\n",
      "2       PSR B1257+12 B\n",
      "3       PSR B1257+12 A\n",
      "4           beta Gem b\n",
      "             ...      \n",
      "1637         HD 5319 c\n",
      "1638         WASP-89 b\n",
      "1639         HD 1666 b\n",
      "1640        HD 95127 b\n",
      "1641      Kepler-432 c\n",
      "Name: NAME, Length: 1642, dtype: object\n",
      "\n",
      "\n",
      "<class 'pandas.core.series.Series'>\n"
     ]
    }
   ],
   "source": [
    "file = 'strata_data-master/data/exoplanets.csv'\n",
    "data = pd.read_csv(file)\n",
    "series = data['NAME']\n",
    "\n",
    "print('\\n')\n",
    "print(series)\n",
    "\n",
    "print('\\n')\n",
    "print(type(series))"
   ]
  },
  {
   "cell_type": "code",
   "execution_count": 31,
   "metadata": {},
   "outputs": [
    {
     "data": {
      "text/plain": [
       "0     5\n",
       "1    10\n",
       "2    15\n",
       "3    20\n",
       "4    25\n",
       "dtype: int64"
      ]
     },
     "execution_count": 31,
     "metadata": {},
     "output_type": "execute_result"
    }
   ],
   "source": [
    "new_list = [5, 10, 15, 20, 25]\n",
    "pd.Series(new_list)"
   ]
  },
  {
   "cell_type": "code",
   "execution_count": 35,
   "metadata": {},
   "outputs": [
    {
     "data": {
      "text/plain": [
       "b    100.0\n",
       "a    200.0\n",
       "d    450.0\n",
       "c    700.0\n",
       "dtype: float64"
      ]
     },
     "execution_count": 35,
     "metadata": {},
     "output_type": "execute_result"
    }
   ],
   "source": [
    "new_dictionary = {'b': 100, 'a': 200.0, 'd': 450, 'c': 700}\n",
    "pd.Series(new_dictionary)"
   ]
  },
  {
   "cell_type": "code",
   "execution_count": 39,
   "metadata": {},
   "outputs": [
    {
     "data": {
      "text/plain": [
       "RangeIndex(start=0, stop=5, step=1)"
      ]
     },
     "execution_count": 39,
     "metadata": {},
     "output_type": "execute_result"
    }
   ],
   "source": [
    "array1 = np.arange(1,6)*10.0\n",
    "series1 = pd.Series(array1)\n",
    "\n",
    "series1.index"
   ]
  },
  {
   "cell_type": "code",
   "execution_count": 45,
   "metadata": {},
   "outputs": [],
   "source": [
    "index2 = ['a', 'b', 'c', 'd', 'a']\n",
    "series2 = pd.Series(np.arange(1,6)*10, index=index2)"
   ]
  },
  {
   "cell_type": "code",
   "execution_count": 46,
   "metadata": {},
   "outputs": [
    {
     "data": {
      "text/plain": [
       "20"
      ]
     },
     "execution_count": 46,
     "metadata": {},
     "output_type": "execute_result"
    }
   ],
   "source": [
    "series2.loc['b']"
   ]
  },
  {
   "cell_type": "code",
   "execution_count": 47,
   "metadata": {},
   "outputs": [
    {
     "data": {
      "text/plain": [
       "a    10\n",
       "a    50\n",
       "dtype: int32"
      ]
     },
     "execution_count": 47,
     "metadata": {},
     "output_type": "execute_result"
    }
   ],
   "source": [
    "series2.loc['a']"
   ]
  },
  {
   "cell_type": "code",
   "execution_count": 48,
   "metadata": {},
   "outputs": [
    {
     "name": "stdout",
     "output_type": "stream",
     "text": [
      "a 10\n",
      "b 20\n",
      "c 30\n",
      "d 40\n",
      "a 50\n"
     ]
    }
   ],
   "source": [
    "for key, value in series2.iteritems():\n",
    "    print(key, value)"
   ]
  },
  {
   "cell_type": "code",
   "execution_count": 49,
   "metadata": {},
   "outputs": [
    {
     "data": {
      "text/plain": [
       "1    20.0\n",
       "2    30.0\n",
       "dtype: float64"
      ]
     },
     "execution_count": 49,
     "metadata": {},
     "output_type": "execute_result"
    }
   ],
   "source": [
    "series1.iloc[1:3]"
   ]
  },
  {
   "cell_type": "code",
   "execution_count": 50,
   "metadata": {},
   "outputs": [
    {
     "name": "stdout",
     "output_type": "stream",
     "text": [
      "b    20\n",
      "dtype: int32\n",
      "\n",
      "\n",
      "b    20\n",
      "c    30\n",
      "dtype: int32\n"
     ]
    }
   ],
   "source": [
    "print(series2.iloc[1:2])\n",
    "print(\"\\n\")\n",
    "print(series2.loc['b':'c'])"
   ]
  },
  {
   "cell_type": "code",
   "execution_count": 51,
   "metadata": {},
   "outputs": [
    {
     "data": {
      "text/plain": [
       "50"
      ]
     },
     "execution_count": 51,
     "metadata": {},
     "output_type": "execute_result"
    }
   ],
   "source": [
    "series2.iloc[-1]"
   ]
  },
  {
   "cell_type": "code",
   "execution_count": 52,
   "metadata": {},
   "outputs": [
    {
     "data": {
      "text/plain": [
       "a    10\n",
       "b    20\n",
       "dtype: int32"
      ]
     },
     "execution_count": 52,
     "metadata": {},
     "output_type": "execute_result"
    }
   ],
   "source": [
    "series2.iloc[:-3]"
   ]
  },
  {
   "cell_type": "code",
   "execution_count": 53,
   "metadata": {},
   "outputs": [
    {
     "data": {
      "text/plain": [
       "d    40\n",
       "b    20\n",
       "dtype: int32"
      ]
     },
     "execution_count": 53,
     "metadata": {},
     "output_type": "execute_result"
    }
   ],
   "source": [
    "series2.loc['d':'b':-2]"
   ]
  },
  {
   "cell_type": "code",
   "execution_count": null,
   "metadata": {},
   "outputs": [],
   "source": []
  }
 ],
 "metadata": {
  "kernelspec": {
   "display_name": "Python 3",
   "language": "python",
   "name": "python3"
  },
  "language_info": {
   "codemirror_mode": {
    "name": "ipython",
    "version": 3
   },
   "file_extension": ".py",
   "mimetype": "text/x-python",
   "name": "python",
   "nbconvert_exporter": "python",
   "pygments_lexer": "ipython3",
   "version": "3.8.5"
  }
 },
 "nbformat": 4,
 "nbformat_minor": 4
}
